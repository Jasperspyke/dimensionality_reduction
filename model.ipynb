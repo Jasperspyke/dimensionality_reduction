{
 "cells": [
  {
   "cell_type": "code",
   "execution_count": 4,
   "metadata": {
    "collapsed": true
   },
   "outputs": [],
   "source": [
    "import torch\n",
    "import torch.nn as nn\n",
    "import torch.optim as optim\n",
    "import numpy as np"
   ]
  },
  {
   "cell_type": "code",
   "execution_count": 12,
   "outputs": [
    {
     "name": "stdout",
     "output_type": "stream",
     "text": [
      "[[11 13]]\n"
     ]
    }
   ],
   "source": [
    "import numpy as np\n",
    "\n",
    "x = np.array([\n",
    "    [ 0,  0,  0,  0,  0,  0,  0,  0,  0,  0,  0,  0,  0,  0,  0,  0, -1, 0,  0],\n",
    "    [ 0,  0,  0,  0,  0,  0,  0,  0,  0,  0,  0,  0,  0,  0,  0,  0,  0,  0,  0],\n",
    "    [ 0,  0, -1, -1, -1, -1, -1,  0,  0,  0,  0,  0,  0,  0,  0,  0,  0,  0,  0],\n",
    "    [ 0, -1,  0,  0,  0,  0,  0, -1,  0,  0,  0,  0,  0,  0,  0,  0,  0,  0,  0],\n",
    "    [ 0, -1,  0,  0,  0,  0,  0, -1,  0,  0,  0,  1,  0,  0,  0,  0,  0,  0,  0],\n",
    "    [ 0, -1,  0,  0,  0,  0,  0, -1,  0,  0,  1,  0,  1,  0,  0,  0,  0,  0,  0],\n",
    "    [ 0,  0, -1, -1, -1, -1, -1,  0,  0,  0,  1,  0,  0,  0,  0,  0,  0,  0,  0],\n",
    "    [ 0,  0,  0,  0,  0,  0,  0, -1,  0,  0,  0,  0,  0,  0,  0,  0,  0,  0,  0],\n",
    "    [ 0,  0,  0,  0,  0,  0,  0,  0,  0,  0,  0,  0,  0,  0,  0,  0,  0,  0,  0],\n",
    "    [ 0,  0,  0,  0,  1,  1,  1,  1,  0,  0,  0,  0,  0,  0,  0,  0,  0,  0,  0],\n",
    "    [ 0,  0,  0,  0,  1,  1,  0,  1,  0,  0,  0,  0, -1,  1,  0,  0,  0,  0,  0],\n",
    "    [ 0,  0,  0,  0,  1,  1,  1,  1,  0,  0,  0, -1,  1,  0,  1,  0,  0,  0,  0],\n",
    "    [ 0,  0,  0,  0,  0,  0,  0,  0,  0,  0,  0,  0, -1,  1,  0,  0,  0,  0,  0],\n",
    "    [ 0,  0,  0,  0,  0,  0,  0,  0,  0,  0,  0,  0,  0,  0,  0,  0,  0,  0,  0],\n",
    "    [ 0,  0,  0,  0,  0,  0,  0,  0,  0,  0,  0,  0,  0,  0,  0,  0,  0,  0,  0],\n",
    "    [-1, -1,  0,  0,  0,  0,  0,  0,  0,  0,  0,  0,  0,  0,  0,  0,  0,  0,  0],\n",
    "    [ 0,  0, -1, -1,  0,  0,  0,  0,  0,  0,  0,  0,  0,  0,  0,  0,  0,  0,  0],\n",
    "    [ 0,  0,  0, -1, -1,  0,  0,  0,  0,  0,  0,  0,  0,  0,  0,  0,  0,  0, -1],\n",
    "    [ 0,  0,  0, -1,  1,  0,  0,  0,  0,  0,  0,  0,  0,  0,  0,  0,  0,  0,  1]\n",
    "])\n",
    "y = np.array([\n",
    "    [ 0,  0,  0,  0,  0,  0,  0,  0,  0,  0,  0,  0,  0,  0,  0,  0, -1, 0,  0],\n",
    "    [ 0,  0,  0,  0,  0,  0,  0,  0,  0,  0,  0,  0,  0,  0,  0,  0,  0,  0,  0],\n",
    "    [ 0,  0, -1, -1, -1, -1, -1,  0,  0,  0,  0,  0,  0,  0,  0,  0,  0,  0,  0],\n",
    "    [ 0, -1,  0,  0,  0,  0,  0, -1,  0,  0,  0,  0,  0,  0,  0,  0,  0,  0,  0],\n",
    "    [ 0, -1,  0,  0,  0,  0,  0, -1,  0,  0,  0,  1,  0,  0,  0,  0,  0,  0,  0],\n",
    "    [ 0, -1,  0,  0,  0,  0,  0, -1,  0,  0,  1,  0,  1,  0,  0,  0,  0,  0,  0],\n",
    "    [ 0,  0, -1, -1, -1, -1, -1,  0,  0,  0,  1,  0,  0,  0,  0,  0,  0,  0,  0],\n",
    "    [ 0,  0,  0,  0,  0,  0,  0, -1,  0,  0,  0,  0,  0,  0,  0,  0,  0,  0,  0],\n",
    "    [ 0,  0,  0,  0,  0,  0,  0,  0,  0,  0,  0,  0,  0,  0,  0,  0,  0,  0,  0],\n",
    "    [ 0,  0,  0,  0,  1,  1,  1,  1,  0,  0,  0,  0,  0,  0,  0,  0,  0,  0,  0],\n",
    "    [ 0,  0,  0,  0,  1,  1,  0,  1,  0,  0,  0,  0, -1,  1,  0,  0,  0,  0,  0],\n",
    "    [ 0,  0,  0,  0,  1,  1,  1,  1,  0,  0,  0, -1,  1,  -1,  1,  0,  0,  0,  0],\n",
    "    [ 0,  0,  0,  0,  0,  0,  0,  0,  0,  0,  0,  0, -1,  1,  0,  0,  0,  0,  0],\n",
    "    [ 0,  0,  0,  0,  0,  0,  0,  0,  0,  0,  0,  0,  0,  0,  0,  0,  0,  0,  0],\n",
    "    [ 0,  0,  0,  0,  0,  0,  0,  0,  0,  0,  0,  0,  0,  0,  0,  0,  0,  0,  0],\n",
    "    [-1, -1,  0,  0,  0,  0,  0,  0,  0,  0,  0,  0,  0,  0,  0,  0,  0,  0,  0],\n",
    "    [ 0,  0, -1, -1,  0,  0,  0,  0,  0,  0,  0,  0,  0,  0,  0,  0,  0,  0,  0],\n",
    "    [ 0,  0,  0, -1, -1,  0,  0,  0,  0,  0,  0,  0,  0,  0,  0,  0,  0,  0, -1],\n",
    "    [ 0,  0,  0, -1,  1,  0,  0,  0,  0,  0,  0,  0,  0,  0,  0,  0,  0,  0,  1]\n",
    "])\n",
    "\n",
    "print(np.argwhere(x != y))"
   ],
   "metadata": {
    "collapsed": false
   }
  },
  {
   "cell_type": "code",
   "execution_count": null,
   "outputs": [],
   "source": [
    "\n",
    "def process_move(x):\n",
    "    has_liberties = np.full(fill_value=False, shape=[19, 19], dtype=bool, last_move=None)\n",
    "    empty_spaces = np.where(x==0)\n",
    "    has_liberties[empty_spaces] = True\n",
    "    empty_spaces = list(zip(empty_spaces[0], empty_spaces[1]))\n",
    "    for i in range(0, 19):\n",
    "        for j in range(0, 19):\n",
    "            here = x[i, j]\n",
    "            if (i, j) in empty_spaces:\n",
    "                if i != 0:\n",
    "                    has_liberties[i-1, j] = True\n",
    "                if i != 18:\n",
    "                    has_liberties[i+1, j] = True\n",
    "                if j != 0:\n",
    "                    has_liberties[i, j-1] = True\n",
    "                if j != 18:\n",
    "                    has_liberties[i, j+1] = True\n",
    "\n",
    "            if has_liberties[i, j] == True:\n",
    "                # stones with liberties grant liberties to same-colored neighbors\n",
    "                if i != 0:\n",
    "                    if x[i-1, j] == here:\n",
    "                        has_liberties[i-1, j] = True\n",
    "                if i != 18:\n",
    "                    if x[i+1, j] == here:\n",
    "                        has_liberties[i+1, j] = True\n",
    "                if j != 0:\n",
    "                    if x[i, j-1] == here:\n",
    "                        has_liberties[i, j-1] = True\n",
    "                if j != 18:\n",
    "                    if x[i, j+1] == here:\n",
    "                        has_liberties[i, j+1] = True\n",
    "\n",
    "    y = np.where(has_liberties, x, 0)\n",
    "    new_board = np.where(y != 0, x, 0)\n",
    "    new_board[last_move[0], last_move[1]] = last_move[2]\n",
    "    return new_board"
   ],
   "metadata": {
    "collapsed": false
   }
  },
  {
   "cell_type": "code",
   "execution_count": null,
   "outputs": [],
   "source": [
    "\n",
    "def process_move(x):\n",
    "    has_liberties = np.full(fill_value=False, shape=[19, 19], dtype=bool)\n",
    "    empty_spaces = np.where(x == 0)\n",
    "    has_liberties[empty_spaces] = True\n",
    "    empty_spaces = list(zip(empty_spaces[0], empty_spaces[1]))\n",
    "\n",
    "    while True:\n",
    "        changed = False\n",
    "        for i in range(19):\n",
    "            for j in range(19):\n",
    "                here = x[i, j]\n",
    "                if (i, j) in empty_spaces:\n",
    "                    if i != 0:\n",
    "                        if not has_liberties[i-1, j]:\n",
    "                            has_liberties[i-1, j] = True\n",
    "                            changed = True\n",
    "                    if i != 18:\n",
    "                        if not has_liberties[i+1, j]:\n",
    "                            has_liberties[i+1, j] = True\n",
    "                            changed = True\n",
    "                    if j != 0:\n",
    "                        if not has_liberties[i, j-1]:\n",
    "                            has_liberties[i, j-1] = True\n",
    "                            changed = True\n",
    "                    if j != 18:\n",
    "                        if not has_liberties[i, j+1]:\n",
    "                            has_liberties[i, j+1] = True\n",
    "                            changed = True\n",
    "\n",
    "                if has_liberties[i, j]:\n",
    "                    if i != 0 and x[i-1, j] == here and not has_liberties[i-1, j]:\n",
    "                        has_liberties[i-1, j] = True\n",
    "                        changed = True\n",
    "                    if i != 18 and x[i+1, j] == here and not has_liberties[i+1, j]:\n",
    "                        has_liberties[i+1, j] = True\n",
    "                        changed = True\n",
    "                    if j != 0 and x[i, j-1] == here and not has_liberties[i, j-1]:\n",
    "                        has_liberties[i, j-1] = True\n",
    "                        changed = True\n",
    "                    if j != 18 and x[i, j+1] == here and not has_liberties[i, j+1]:\n",
    "                        has_liberties[i, j+1] = True\n",
    "                        changed = True\n",
    "\n",
    "        if not changed:\n",
    "            break\n",
    "\n",
    "    y = np.where(has_liberties, x, 0)\n",
    "    new_board = np.where(y != 0, x, 0)\n",
    "    return new_board"
   ],
   "metadata": {
    "collapsed": false
   }
  }
 ],
 "metadata": {
  "kernelspec": {
   "display_name": "Python 3",
   "language": "python",
   "name": "python3"
  },
  "language_info": {
   "codemirror_mode": {
    "name": "ipython",
    "version": 2
   },
   "file_extension": ".py",
   "mimetype": "text/x-python",
   "name": "python",
   "nbconvert_exporter": "python",
   "pygments_lexer": "ipython2",
   "version": "2.7.6"
  }
 },
 "nbformat": 4,
 "nbformat_minor": 0
}
